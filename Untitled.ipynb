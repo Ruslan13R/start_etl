{
 "cells": [
  {
   "cell_type": "code",
   "execution_count": 28,
   "id": "b2922a2f-3556-402f-8eba-f1cecab81346",
   "metadata": {},
   "outputs": [
    {
     "name": "stdout",
     "output_type": "stream",
     "text": [
      "Библиотека установлена и подключена\n"
     ]
    }
   ],
   "source": [
    "try:\n",
    "    from dotenv import load_dotenv\n",
    "    print('Библиотека установлена и подключена')\n",
    "except Exception as e:\n",
    "    print(e)\n",
    "    try:\n",
    "        import os\n",
    "        print('Библиотека dotenv не установлена')\n",
    "        os.system('pip install python-dotenv')\n",
    "    except Exception as ee:\n",
    "        print(ee)\n"
   ]
  },
  {
   "cell_type": "code",
   "execution_count": 80,
   "id": "06ddc44a-27eb-4cdb-96eb-01ab3c1eecb4",
   "metadata": {},
   "outputs": [],
   "source": [
    "from datetime import datetime\n",
    "from datetime import date\n",
    "from dotenv import load_dotenv\n",
    "import requests\n",
    "import psycopg2\n",
    "import os"
   ]
  },
  {
   "cell_type": "code",
   "execution_count": 134,
   "id": "f5138ac1-6f6b-418e-acf4-61305c2a2baf",
   "metadata": {},
   "outputs": [
    {
     "data": {
      "text/plain": [
       "True"
      ]
     },
     "execution_count": 134,
     "metadata": {},
     "output_type": "execute_result"
    }
   ],
   "source": [
    "load_dotenv()"
   ]
  },
  {
   "cell_type": "markdown",
   "id": "70cf8b17-19d4-44ff-8ce4-f1b9a6c04326",
   "metadata": {},
   "source": [
    "# Знакомство с данными"
   ]
  },
  {
   "cell_type": "code",
   "execution_count": 124,
   "id": "ebb04493-c635-49e7-8b40-6d41604434a9",
   "metadata": {},
   "outputs": [
    {
     "name": "stdout",
     "output_type": "stream",
     "text": [
      "2025-06-27\n",
      "2025-06-28\n",
      "2025-06-29\n",
      "2025-06-30\n",
      "2025-07-01\n",
      "2025-07-02\n"
     ]
    }
   ],
   "source": [
    "# response = requests.get(f'http://api.openweathermap.org/data/2.5/find', \n",
    "#                         params={'q':'London','type':'like', 'units':'metric','APPID':os.getenv('API_KEY')})\n",
    "# response.json()\n",
    "\n",
    "response = requests.get(f'http://api.openweathermap.org/data/2.5/forecast?q=London&units=metric&appid={os.getenv(\"API_KEY\")}')\n",
    "response = response.json()\n",
    "\n",
    "dt_obj = []\n",
    "for i in response['list']:\n",
    "    dt_obj.append(datetime.utcfromtimestamp(i['dt']).date())\n",
    "\n",
    "print(*sorted(set(dt_obj)), sep='\\n')"
   ]
  },
  {
   "cell_type": "code",
   "execution_count": 180,
   "id": "8381eba0-37f7-46fc-9c20-50e4990cba6c",
   "metadata": {},
   "outputs": [
    {
     "data": {
      "text/plain": [
       "{'id': 2643743,\n",
       " 'name': 'London',\n",
       " 'coord': {'lat': 51.5085, 'lon': -0.1257},\n",
       " 'country': 'GB',\n",
       " 'population': 1000000,\n",
       " 'timezone': 3600,\n",
       " 'sunrise': 1750995913,\n",
       " 'sunset': 1751055704}"
      ]
     },
     "execution_count": 180,
     "metadata": {},
     "output_type": "execute_result"
    }
   ],
   "source": [
    "response['city']"
   ]
  },
  {
   "cell_type": "code",
   "execution_count": null,
   "id": "361ec37c-ff40-4da6-8985-5d868af439ed",
   "metadata": {},
   "outputs": [],
   "source": []
  },
  {
   "cell_type": "code",
   "execution_count": null,
   "id": "84595f26-e1de-484b-855a-6e957bea5c63",
   "metadata": {},
   "outputs": [],
   "source": []
  },
  {
   "cell_type": "code",
   "execution_count": 118,
   "id": "f463bb37-c570-4baf-aabf-0307cfe13a0b",
   "metadata": {},
   "outputs": [
    {
     "data": {
      "text/plain": [
       "{'id': 2643743,\n",
       " 'name': 'London',\n",
       " 'coord': {'lat': 51.5085, 'lon': -0.1257},\n",
       " 'country': 'GB',\n",
       " 'population': 1000000,\n",
       " 'timezone': 3600,\n",
       " 'sunrise': 1750995913,\n",
       " 'sunset': 1751055704}"
      ]
     },
     "execution_count": 118,
     "metadata": {},
     "output_type": "execute_result"
    }
   ],
   "source": [
    "response['city']"
   ]
  },
  {
   "cell_type": "markdown",
   "id": "283d0312-bc10-45e7-a6f8-0dbd43c2b084",
   "metadata": {},
   "source": [
    "# Реализация ETL"
   ]
  },
  {
   "cell_type": "code",
   "execution_count": 434,
   "id": "637c7269-1c66-495b-8cd0-e29d35a90a12",
   "metadata": {},
   "outputs": [],
   "source": [
    "def extract(url):\n",
    "    response = requests.get(url)\n",
    "    if response.status_code == 200:\n",
    "        data = response.json()\n",
    "        return data\n",
    "    else:\n",
    "        raise Exception(f'Код ошибки: {response.status_code}')\n",
    "        \n"
   ]
  },
  {
   "cell_type": "code",
   "execution_count": 436,
   "id": "e4a5b393-be07-40f5-8f01-6938219b5696",
   "metadata": {},
   "outputs": [],
   "source": [
    "def transform(data, CITY):\n",
    "    if data is None:\n",
    "        return\n",
    "    try:\n",
    "        city = CITY['name']\n",
    "        dt = datetime.utcfromtimestamp(data['dt'])\n",
    "        weather = data['weather'][0]['description']\n",
    "        temp = data['main']['temp']\n",
    "    \n",
    "        return city, dt, weather, temp\n",
    "    except KeyError as e:\n",
    "        print(f'Ошибка структуры данных {e}')\n",
    "        return None"
   ]
  },
  {
   "cell_type": "code",
   "execution_count": 442,
   "id": "4388981c-4c01-4b66-b600-e419c7ae4d1b",
   "metadata": {},
   "outputs": [],
   "source": [
    "def load(row):\n",
    "    try:\n",
    "        conn = psycopg2.connect(\n",
    "        dbname=os.getenv('DB_NAME'),\n",
    "        user=os.getenv('DB_USER'),\n",
    "        password=os.getenv('DB_PASSWORD'),\n",
    "        host=os.getenv('HOST'),\n",
    "        port=os.getenv('PORT')\n",
    "        )\n",
    "    \n",
    "        with conn.cursor() as cur:\n",
    "            cur.execute('SET search_path TO stagging')\n",
    "        \n",
    "            cur.execute(\n",
    "                '''\n",
    "                    INSERT INTO weather_data(city, date, weather, temperature)\n",
    "                    VALUES (%s, %s, %s, %s)\n",
    "                    ON CONFLICT (city, date) DO NOTHING\n",
    "                ''', (row) \n",
    "            )\n",
    "            conn.commit()\n",
    "    except Exception as e:\n",
    "        print(e)\n",
    "    finally:\n",
    "        conn.close()\n",
    "        "
   ]
  },
  {
   "cell_type": "code",
   "execution_count": 450,
   "id": "a2356c85-4c61-42c1-b735-f0f86a3d39c1",
   "metadata": {},
   "outputs": [],
   "source": [
    "def etl(url):\n",
    "    try:\n",
    "        ext = extract(url)\n",
    "        city = ext['city']\n",
    "        data = ext['list']\n",
    "        for row in data:\n",
    "            trn = transform(row, city)\n",
    "            ld = load(trn)\n",
    "    except Exception as e:\n",
    "        print(e)\n",
    "\n",
    "        "
   ]
  },
  {
   "cell_type": "code",
   "execution_count": 452,
   "id": "89d64e93-0a18-4e90-884f-bca1f6dade7c",
   "metadata": {},
   "outputs": [
    {
     "name": "stdout",
     "output_type": "stream",
     "text": [
      "ОШИБКА:  нет уникального ограничения или ограничения-исключения, соответствующего указанию ON CONFLICT\n",
      "\n",
      "ОШИБКА:  нет уникального ограничения или ограничения-исключения, соответствующего указанию ON CONFLICT\n",
      "\n",
      "ОШИБКА:  нет уникального ограничения или ограничения-исключения, соответствующего указанию ON CONFLICT\n",
      "\n",
      "ОШИБКА:  нет уникального ограничения или ограничения-исключения, соответствующего указанию ON CONFLICT\n",
      "\n",
      "ОШИБКА:  нет уникального ограничения или ограничения-исключения, соответствующего указанию ON CONFLICT\n",
      "\n",
      "ОШИБКА:  нет уникального ограничения или ограничения-исключения, соответствующего указанию ON CONFLICT\n",
      "\n",
      "ОШИБКА:  нет уникального ограничения или ограничения-исключения, соответствующего указанию ON CONFLICT\n",
      "\n",
      "ОШИБКА:  нет уникального ограничения или ограничения-исключения, соответствующего указанию ON CONFLICT\n",
      "\n",
      "ОШИБКА:  нет уникального ограничения или ограничения-исключения, соответствующего указанию ON CONFLICT\n",
      "\n",
      "ОШИБКА:  нет уникального ограничения или ограничения-исключения, соответствующего указанию ON CONFLICT\n",
      "\n",
      "ОШИБКА:  нет уникального ограничения или ограничения-исключения, соответствующего указанию ON CONFLICT\n",
      "\n",
      "ОШИБКА:  нет уникального ограничения или ограничения-исключения, соответствующего указанию ON CONFLICT\n",
      "\n",
      "ОШИБКА:  нет уникального ограничения или ограничения-исключения, соответствующего указанию ON CONFLICT\n",
      "\n",
      "ОШИБКА:  нет уникального ограничения или ограничения-исключения, соответствующего указанию ON CONFLICT\n",
      "\n",
      "ОШИБКА:  нет уникального ограничения или ограничения-исключения, соответствующего указанию ON CONFLICT\n",
      "\n",
      "ОШИБКА:  нет уникального ограничения или ограничения-исключения, соответствующего указанию ON CONFLICT\n",
      "\n",
      "ОШИБКА:  нет уникального ограничения или ограничения-исключения, соответствующего указанию ON CONFLICT\n",
      "\n",
      "ОШИБКА:  нет уникального ограничения или ограничения-исключения, соответствующего указанию ON CONFLICT\n",
      "\n",
      "ОШИБКА:  нет уникального ограничения или ограничения-исключения, соответствующего указанию ON CONFLICT\n",
      "\n",
      "ОШИБКА:  нет уникального ограничения или ограничения-исключения, соответствующего указанию ON CONFLICT\n",
      "\n",
      "ОШИБКА:  нет уникального ограничения или ограничения-исключения, соответствующего указанию ON CONFLICT\n",
      "\n",
      "ОШИБКА:  нет уникального ограничения или ограничения-исключения, соответствующего указанию ON CONFLICT\n",
      "\n",
      "ОШИБКА:  нет уникального ограничения или ограничения-исключения, соответствующего указанию ON CONFLICT\n",
      "\n",
      "ОШИБКА:  нет уникального ограничения или ограничения-исключения, соответствующего указанию ON CONFLICT\n",
      "\n",
      "ОШИБКА:  нет уникального ограничения или ограничения-исключения, соответствующего указанию ON CONFLICT\n",
      "\n",
      "ОШИБКА:  нет уникального ограничения или ограничения-исключения, соответствующего указанию ON CONFLICT\n",
      "\n",
      "ОШИБКА:  нет уникального ограничения или ограничения-исключения, соответствующего указанию ON CONFLICT\n",
      "\n",
      "ОШИБКА:  нет уникального ограничения или ограничения-исключения, соответствующего указанию ON CONFLICT\n",
      "\n",
      "ОШИБКА:  нет уникального ограничения или ограничения-исключения, соответствующего указанию ON CONFLICT\n",
      "\n",
      "ОШИБКА:  нет уникального ограничения или ограничения-исключения, соответствующего указанию ON CONFLICT\n",
      "\n",
      "ОШИБКА:  нет уникального ограничения или ограничения-исключения, соответствующего указанию ON CONFLICT\n",
      "\n",
      "ОШИБКА:  нет уникального ограничения или ограничения-исключения, соответствующего указанию ON CONFLICT\n",
      "\n",
      "ОШИБКА:  нет уникального ограничения или ограничения-исключения, соответствующего указанию ON CONFLICT\n",
      "\n",
      "ОШИБКА:  нет уникального ограничения или ограничения-исключения, соответствующего указанию ON CONFLICT\n",
      "\n",
      "ОШИБКА:  нет уникального ограничения или ограничения-исключения, соответствующего указанию ON CONFLICT\n",
      "\n",
      "ОШИБКА:  нет уникального ограничения или ограничения-исключения, соответствующего указанию ON CONFLICT\n",
      "\n",
      "ОШИБКА:  нет уникального ограничения или ограничения-исключения, соответствующего указанию ON CONFLICT\n",
      "\n",
      "ОШИБКА:  нет уникального ограничения или ограничения-исключения, соответствующего указанию ON CONFLICT\n",
      "\n",
      "ОШИБКА:  нет уникального ограничения или ограничения-исключения, соответствующего указанию ON CONFLICT\n",
      "\n",
      "ОШИБКА:  нет уникального ограничения или ограничения-исключения, соответствующего указанию ON CONFLICT\n",
      "\n",
      "Данные загружены\n"
     ]
    }
   ],
   "source": [
    "url = f'http://api.openweathermap.org/data/2.5/forecast?q=London&units=metric&appid={os.getenv(\"API_KEY\")}'\n",
    "\n",
    "try:\n",
    "    etl(url)\n",
    "    print('Данные загружены')\n",
    "except Exception as e:\n",
    "    print(f'Ошибка загрузки. {e}')\n"
   ]
  },
  {
   "cell_type": "code",
   "execution_count": null,
   "id": "ba05179c-8216-4f3a-be0d-ffc4924b6e85",
   "metadata": {},
   "outputs": [],
   "source": []
  }
 ],
 "metadata": {
  "kernelspec": {
   "display_name": "Python 3 (ipykernel)",
   "language": "python",
   "name": "python3"
  },
  "language_info": {
   "codemirror_mode": {
    "name": "ipython",
    "version": 3
   },
   "file_extension": ".py",
   "mimetype": "text/x-python",
   "name": "python",
   "nbconvert_exporter": "python",
   "pygments_lexer": "ipython3",
   "version": "3.11.10"
  }
 },
 "nbformat": 4,
 "nbformat_minor": 5
}
